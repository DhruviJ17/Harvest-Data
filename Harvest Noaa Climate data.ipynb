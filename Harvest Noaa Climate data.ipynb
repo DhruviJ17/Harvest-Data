{
 "cells": [
  {
   "cell_type": "code",
   "execution_count": 4,
   "metadata": {},
   "outputs": [],
   "source": [
    "import bs4\n",
    "from bs4 import BeautifulSoup\n",
    "import requests\n",
    "import pandas as pd\n",
    "import datetime\n",
    "import numpy as np\n",
    "import os\n",
    "import sys\n",
    "import warnings\n",
    "warnings.filterwarnings('ignore')"
   ]
  },
  {
   "cell_type": "code",
   "execution_count": 11,
   "metadata": {},
   "outputs": [
    {
     "name": "stdout",
     "output_type": "stream",
     "text": [
      "CITY:AE000001\n"
     ]
    }
   ],
   "source": [
    "lastyear = datetime.datetime.now()-datetime.timedelta(days=365)\n",
    "\n",
    "begin_date = lastyear.strftime(\"%Y-%m-%d\")\n",
    "end_date = lastyear.strftime(\"%Y-%m-%d\")\n",
    "\n",
    "location_name = 'Abu Dhabi, AE' #location as input\n",
    "mytoken = 'KvcVrPXahBeAZuNjikWrIWtbrnbosHyA'\n",
    "\n",
    "url = 'https://www.ncdc.noaa.gov/cdo-web/api/v2/locations'\n",
    "token = {'token': mytoken}   \n",
    "r_loc = requests.get(url, headers = token)\n",
    "df_loc = pd.DataFrame.from_dict(r_loc.json()['results'])\n",
    "df_loc\n",
    "\n",
    "locationid = df_loc[df_loc['name']==location_name]['id'][0]\n",
    "print(locationid)"
   ]
  },
  {
   "cell_type": "code",
   "execution_count": 12,
   "metadata": {},
   "outputs": [],
   "source": [
    "def get_weather(locationid, begin_date, end_date, mytoken):\n",
    "    token = {'token': mytoken}\n",
    "    params = 'datasetid=GHCND'+'&locationid='+str(locationid)+'&startdate='+str(begin_date)+'&enddate='+str(end_date)+'&limit=1000'+'&units=standard'                  \n",
    "    base_url = 'https://www.ncdc.noaa.gov/cdo-web/api/v2/data'\n",
    "    \n",
    "    r = requests.get(base_url, params = params, headers=token,verify=False)\n",
    "    print(\"Request status code: \"+str(r.status_code))\n",
    "    try:\n",
    "        df = pd.DataFrame.from_dict(r.json()['results'])\n",
    "        print(\"Successfully retrieved \"+str(len(df['station'].unique()))+\" stations\")\n",
    "        dates = pd.to_datetime(df['date'])\n",
    "        print(\"Last date retrieved: \"+str(dates.iloc[-1]))\n",
    "\n",
    "        if df.count().max()==1000:\n",
    "            print('Maximum data limit was reached (limit = 1000)')     \n",
    "        return df\n",
    "    except:\n",
    "        print(\"Error converting weather data to dataframe.\")"
   ]
  },
  {
   "cell_type": "code",
   "execution_count": 13,
   "metadata": {},
   "outputs": [
    {
     "name": "stdout",
     "output_type": "stream",
     "text": [
      "Request status code: 200\n",
      "Successfully retrieved 1 stations\n",
      "Last date retrieved: 2020-04-13 00:00:00\n"
     ]
    },
    {
     "data": {
      "text/html": [
       "<div>\n",
       "<style scoped>\n",
       "    .dataframe tbody tr th:only-of-type {\n",
       "        vertical-align: middle;\n",
       "    }\n",
       "\n",
       "    .dataframe tbody tr th {\n",
       "        vertical-align: top;\n",
       "    }\n",
       "\n",
       "    .dataframe thead th {\n",
       "        text-align: right;\n",
       "    }\n",
       "</style>\n",
       "<table border=\"1\" class=\"dataframe\">\n",
       "  <thead>\n",
       "    <tr style=\"text-align: right;\">\n",
       "      <th></th>\n",
       "      <th>date</th>\n",
       "      <th>datatype</th>\n",
       "      <th>station</th>\n",
       "      <th>attributes</th>\n",
       "      <th>value</th>\n",
       "    </tr>\n",
       "  </thead>\n",
       "  <tbody>\n",
       "    <tr>\n",
       "      <th>0</th>\n",
       "      <td>2020-04-13T00:00:00</td>\n",
       "      <td>TAVG</td>\n",
       "      <td>GHCND:AEM00041217</td>\n",
       "      <td>H,,S,</td>\n",
       "      <td>86.0</td>\n",
       "    </tr>\n",
       "  </tbody>\n",
       "</table>\n",
       "</div>"
      ],
      "text/plain": [
       "                  date datatype            station attributes  value\n",
       "0  2020-04-13T00:00:00     TAVG  GHCND:AEM00041217      H,,S,   86.0"
      ]
     },
     "execution_count": 13,
     "metadata": {},
     "output_type": "execute_result"
    }
   ],
   "source": [
    "df_weather = get_weather(locationid, begin_date, end_date, mytoken)\n",
    "df_weather"
   ]
  },
  {
   "cell_type": "code",
   "execution_count": 17,
   "metadata": {},
   "outputs": [],
   "source": [
    "def get_station_info(locationid, mytoken):\n",
    "    token = {'token': mytoken}   \n",
    "    stations = 'locationid='+str(locationid)+'&'+'&'+'units=standard'+'&'+'limit=1000'\n",
    "    base_url = 'https://www.ncdc.noaa.gov/cdo-web/api/v2/stations'\n",
    "    r = requests.get(base_url, headers = token, params=stations)\n",
    "    print(\"Request status code: \"+str(r.status_code))\n",
    "\n",
    "    try:\n",
    "        df = pd.DataFrame.from_dict(r.json()['results'])\n",
    "        print(\"Successfully retrieved \"+str(len(df['id'].unique()))+\" stations\")      \n",
    "        if df.count().max() >= 1000:\n",
    "            print('Maximum data limit was reached (limit = 1000)')\n",
    " \n",
    "        return df\n",
    "    except:\n",
    "        print(\"Error converting station data to dataframe\")"
   ]
  },
  {
   "cell_type": "code",
   "execution_count": 18,
   "metadata": {},
   "outputs": [
    {
     "name": "stdout",
     "output_type": "stream",
     "text": [
      "Request status code: 200\n",
      "Successfully retrieved 1 stations\n"
     ]
    },
    {
     "data": {
      "text/html": [
       "<div>\n",
       "<style scoped>\n",
       "    .dataframe tbody tr th:only-of-type {\n",
       "        vertical-align: middle;\n",
       "    }\n",
       "\n",
       "    .dataframe tbody tr th {\n",
       "        vertical-align: top;\n",
       "    }\n",
       "\n",
       "    .dataframe thead th {\n",
       "        text-align: right;\n",
       "    }\n",
       "</style>\n",
       "<table border=\"1\" class=\"dataframe\">\n",
       "  <thead>\n",
       "    <tr style=\"text-align: right;\">\n",
       "      <th></th>\n",
       "      <th>elevation</th>\n",
       "      <th>mindate</th>\n",
       "      <th>maxdate</th>\n",
       "      <th>latitude</th>\n",
       "      <th>name</th>\n",
       "      <th>datacoverage</th>\n",
       "      <th>id</th>\n",
       "      <th>elevationUnit</th>\n",
       "      <th>longitude</th>\n",
       "    </tr>\n",
       "  </thead>\n",
       "  <tbody>\n",
       "    <tr>\n",
       "      <th>0</th>\n",
       "      <td>26.8</td>\n",
       "      <td>1983-01-01</td>\n",
       "      <td>2021-04-09</td>\n",
       "      <td>24.433</td>\n",
       "      <td>ABU DHABI INTERNATIONAL, AE</td>\n",
       "      <td>0.9976</td>\n",
       "      <td>GHCND:AEM00041217</td>\n",
       "      <td>METERS</td>\n",
       "      <td>54.651</td>\n",
       "    </tr>\n",
       "  </tbody>\n",
       "</table>\n",
       "</div>"
      ],
      "text/plain": [
       "   elevation     mindate     maxdate  latitude                         name  \\\n",
       "0       26.8  1983-01-01  2021-04-09    24.433  ABU DHABI INTERNATIONAL, AE   \n",
       "\n",
       "   datacoverage                 id elevationUnit  longitude  \n",
       "0        0.9976  GHCND:AEM00041217        METERS     54.651  "
      ]
     },
     "execution_count": 18,
     "metadata": {},
     "output_type": "execute_result"
    }
   ],
   "source": [
    "df_stations = get_station_info(locationid,mytoken)\n",
    "df_stations"
   ]
  },
  {
   "cell_type": "code",
   "execution_count": 19,
   "metadata": {},
   "outputs": [
    {
     "data": {
      "text/html": [
       "<div>\n",
       "<style scoped>\n",
       "    .dataframe tbody tr th:only-of-type {\n",
       "        vertical-align: middle;\n",
       "    }\n",
       "\n",
       "    .dataframe tbody tr th {\n",
       "        vertical-align: top;\n",
       "    }\n",
       "\n",
       "    .dataframe thead th {\n",
       "        text-align: right;\n",
       "    }\n",
       "</style>\n",
       "<table border=\"1\" class=\"dataframe\">\n",
       "  <thead>\n",
       "    <tr style=\"text-align: right;\">\n",
       "      <th></th>\n",
       "      <th>date</th>\n",
       "      <th>datatype</th>\n",
       "      <th>station</th>\n",
       "      <th>attributes</th>\n",
       "      <th>value</th>\n",
       "      <th>elevation</th>\n",
       "      <th>latitude</th>\n",
       "      <th>name</th>\n",
       "      <th>datacoverage</th>\n",
       "      <th>elevationUnit</th>\n",
       "      <th>longitude</th>\n",
       "    </tr>\n",
       "  </thead>\n",
       "  <tbody>\n",
       "    <tr>\n",
       "      <th>0</th>\n",
       "      <td>2020-04-13T00:00:00</td>\n",
       "      <td>TAVG</td>\n",
       "      <td>GHCND:AEM00041217</td>\n",
       "      <td>H,,S,</td>\n",
       "      <td>86.0</td>\n",
       "      <td>26.8</td>\n",
       "      <td>24.433</td>\n",
       "      <td>ABU DHABI INTERNATIONAL, AE</td>\n",
       "      <td>0.9976</td>\n",
       "      <td>METERS</td>\n",
       "      <td>54.651</td>\n",
       "    </tr>\n",
       "  </tbody>\n",
       "</table>\n",
       "</div>"
      ],
      "text/plain": [
       "                  date datatype            station attributes  value  \\\n",
       "0  2020-04-13T00:00:00     TAVG  GHCND:AEM00041217      H,,S,   86.0   \n",
       "\n",
       "   elevation  latitude                         name  datacoverage  \\\n",
       "0       26.8    24.433  ABU DHABI INTERNATIONAL, AE        0.9976   \n",
       "\n",
       "  elevationUnit  longitude  \n",
       "0        METERS     54.651  "
      ]
     },
     "execution_count": 19,
     "metadata": {},
     "output_type": "execute_result"
    }
   ],
   "source": [
    "df = df_weather.merge(df_stations, left_on = 'station', right_on = 'id', how='inner')\n",
    "df.drop(['id','mindate','maxdate'], inplace=True, axis=1)\n",
    "df"
   ]
  },
  {
   "cell_type": "code",
   "execution_count": null,
   "metadata": {},
   "outputs": [],
   "source": [
    "df.to_csv('weather_'+str(begin_date)+'_noaa.csv', encoding='utf-8', index=False)\n",
    "# save csv file"
   ]
  },
  {
   "cell_type": "code",
   "execution_count": null,
   "metadata": {},
   "outputs": [],
   "source": []
  }
 ],
 "metadata": {
  "kernelspec": {
   "display_name": "Python 3",
   "language": "python",
   "name": "python3"
  },
  "language_info": {
   "codemirror_mode": {
    "name": "ipython",
    "version": 3
   },
   "file_extension": ".py",
   "mimetype": "text/x-python",
   "name": "python",
   "nbconvert_exporter": "python",
   "pygments_lexer": "ipython3",
   "version": "3.8.5"
  }
 },
 "nbformat": 4,
 "nbformat_minor": 4
}
